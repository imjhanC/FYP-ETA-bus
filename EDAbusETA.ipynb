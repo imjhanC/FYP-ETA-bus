{
 "cells": [
  {
   "cell_type": "code",
   "execution_count": 11,
   "metadata": {},
   "outputs": [],
   "source": [
    "import pandas as pd\n",
    "import numpy as np\n",
    "import matplotlib.pyplot as plt\n",
    "import seaborn as sns\n",
    "import warnings as wr\n",
    "wr.filterwarnings('ignore')"
   ]
  },
  {
   "cell_type": "code",
   "execution_count": 12,
   "metadata": {},
   "outputs": [
    {
     "name": "stdout",
     "output_type": "stream",
     "text": [
      "             timestamp   bus_id route_id  stop_sequence  \\\n",
      "0  2024-01-01 06:00:00  BUS_001     R001              1   \n",
      "1  2024-01-01 06:05:00  BUS_001     R001              2   \n",
      "2  2024-01-01 06:10:00  BUS_001     R001              3   \n",
      "3  2024-01-01 06:17:00  BUS_001     R001              4   \n",
      "4  2024-01-01 06:23:00  BUS_001     R001              5   \n",
      "\n",
      "                   current_stop_name                     next_stop_name  \\\n",
      "0                      UTAR bus stop  KJ370 Perumahan SG Long Seksyen 7   \n",
      "1  KJ370 Perumahan SG Long Seksyen 7                  KJ428 SMK SG Long   \n",
      "2                  KJ428 SMK SG Long                   Green Acre Condo   \n",
      "3                   Green Acre Condo                 SG Long Club House   \n",
      "4                 SG Long Club House                      UTAR bus stop   \n",
      "\n",
      "   day_of_week  is_holiday  is_peak_hour weather_condition  passenger_count  \\\n",
      "0            0       False         False             sunny               18   \n",
      "1            0       False         False             rainy               13   \n",
      "2            0       False         False             rainy                2   \n",
      "3            0       False         False             windy               14   \n",
      "4            0       False         False             windy               11   \n",
      "\n",
      "   current_speed traffic_condition  distance_to_next_stop  current_lat  \\\n",
      "0          19.62               jam                   0.39     3.044544   \n",
      "1          21.65             heavy                   0.24     3.047666   \n",
      "2          51.02             light                   0.47     3.045477   \n",
      "3          50.09             light                   0.27     3.042788   \n",
      "4          16.74               jam                   0.53     3.042749   \n",
      "\n",
      "   current_lon  eta_minutes  \n",
      "0   101.794874            3  \n",
      "1   101.796650            0  \n",
      "2   101.798123            0  \n",
      "3   101.798283            0  \n",
      "4   101.796945            5  \n"
     ]
    }
   ],
   "source": [
    "df = pd.read_csv(\"bus_eta_dataset.csv\")\n",
    "print(df.head())"
   ]
  },
  {
   "cell_type": "code",
   "execution_count": 13,
   "metadata": {},
   "outputs": [
    {
     "data": {
      "text/plain": [
       "(100000, 17)"
      ]
     },
     "execution_count": 13,
     "metadata": {},
     "output_type": "execute_result"
    }
   ],
   "source": [
    "df.shape"
   ]
  },
  {
   "cell_type": "code",
   "execution_count": 14,
   "metadata": {},
   "outputs": [
    {
     "name": "stdout",
     "output_type": "stream",
     "text": [
      "<class 'pandas.core.frame.DataFrame'>\n",
      "RangeIndex: 100000 entries, 0 to 99999\n",
      "Data columns (total 17 columns):\n",
      " #   Column                 Non-Null Count   Dtype  \n",
      "---  ------                 --------------   -----  \n",
      " 0   timestamp              100000 non-null  object \n",
      " 1   bus_id                 100000 non-null  object \n",
      " 2   route_id               100000 non-null  object \n",
      " 3   stop_sequence          100000 non-null  int64  \n",
      " 4   current_stop_name      100000 non-null  object \n",
      " 5   next_stop_name         100000 non-null  object \n",
      " 6   day_of_week            100000 non-null  int64  \n",
      " 7   is_holiday             100000 non-null  bool   \n",
      " 8   is_peak_hour           100000 non-null  bool   \n",
      " 9   weather_condition      100000 non-null  object \n",
      " 10  passenger_count        100000 non-null  int64  \n",
      " 11  current_speed          100000 non-null  float64\n",
      " 12  traffic_condition      100000 non-null  object \n",
      " 13  distance_to_next_stop  100000 non-null  float64\n",
      " 14  current_lat            100000 non-null  float64\n",
      " 15  current_lon            100000 non-null  float64\n",
      " 16  eta_minutes            100000 non-null  int64  \n",
      "dtypes: bool(2), float64(4), int64(4), object(7)\n",
      "memory usage: 11.6+ MB\n"
     ]
    }
   ],
   "source": [
    "df.info()"
   ]
  },
  {
   "cell_type": "code",
   "execution_count": 15,
   "metadata": {},
   "outputs": [
    {
     "data": {
      "text/html": [
       "<div>\n",
       "<style scoped>\n",
       "    .dataframe tbody tr th:only-of-type {\n",
       "        vertical-align: middle;\n",
       "    }\n",
       "\n",
       "    .dataframe tbody tr th {\n",
       "        vertical-align: top;\n",
       "    }\n",
       "\n",
       "    .dataframe thead th {\n",
       "        text-align: right;\n",
       "    }\n",
       "</style>\n",
       "<table border=\"1\" class=\"dataframe\">\n",
       "  <thead>\n",
       "    <tr style=\"text-align: right;\">\n",
       "      <th></th>\n",
       "      <th>stop_sequence</th>\n",
       "      <th>day_of_week</th>\n",
       "      <th>passenger_count</th>\n",
       "      <th>current_speed</th>\n",
       "      <th>distance_to_next_stop</th>\n",
       "      <th>current_lat</th>\n",
       "      <th>current_lon</th>\n",
       "      <th>eta_minutes</th>\n",
       "    </tr>\n",
       "  </thead>\n",
       "  <tbody>\n",
       "    <tr>\n",
       "      <th>count</th>\n",
       "      <td>100000.000000</td>\n",
       "      <td>100000.00000</td>\n",
       "      <td>100000.000000</td>\n",
       "      <td>100000.000000</td>\n",
       "      <td>100000.000000</td>\n",
       "      <td>100000.000000</td>\n",
       "      <td>100000.000000</td>\n",
       "      <td>100000.000000</td>\n",
       "    </tr>\n",
       "    <tr>\n",
       "      <th>mean</th>\n",
       "      <td>2.988910</td>\n",
       "      <td>2.99254</td>\n",
       "      <td>18.304740</td>\n",
       "      <td>31.734311</td>\n",
       "      <td>0.379676</td>\n",
       "      <td>3.045086</td>\n",
       "      <td>101.797202</td>\n",
       "      <td>1.062050</td>\n",
       "    </tr>\n",
       "    <tr>\n",
       "      <th>std</th>\n",
       "      <td>1.414449</td>\n",
       "      <td>1.99766</td>\n",
       "      <td>8.218921</td>\n",
       "      <td>14.058088</td>\n",
       "      <td>0.111524</td>\n",
       "      <td>0.002153</td>\n",
       "      <td>0.001187</td>\n",
       "      <td>1.878413</td>\n",
       "    </tr>\n",
       "    <tr>\n",
       "      <th>min</th>\n",
       "      <td>1.000000</td>\n",
       "      <td>0.00000</td>\n",
       "      <td>0.000000</td>\n",
       "      <td>5.000000</td>\n",
       "      <td>0.240000</td>\n",
       "      <td>3.041484</td>\n",
       "      <td>101.794788</td>\n",
       "      <td>0.000000</td>\n",
       "    </tr>\n",
       "    <tr>\n",
       "      <th>25%</th>\n",
       "      <td>2.000000</td>\n",
       "      <td>1.00000</td>\n",
       "      <td>12.000000</td>\n",
       "      <td>19.860000</td>\n",
       "      <td>0.270000</td>\n",
       "      <td>3.043120</td>\n",
       "      <td>101.796117</td>\n",
       "      <td>0.000000</td>\n",
       "    </tr>\n",
       "    <tr>\n",
       "      <th>50%</th>\n",
       "      <td>3.000000</td>\n",
       "      <td>3.00000</td>\n",
       "      <td>17.000000</td>\n",
       "      <td>34.080000</td>\n",
       "      <td>0.390000</td>\n",
       "      <td>3.045089</td>\n",
       "      <td>101.797769</td>\n",
       "      <td>0.000000</td>\n",
       "    </tr>\n",
       "    <tr>\n",
       "      <th>75%</th>\n",
       "      <td>4.000000</td>\n",
       "      <td>5.00000</td>\n",
       "      <td>24.000000</td>\n",
       "      <td>43.360000</td>\n",
       "      <td>0.470000</td>\n",
       "      <td>3.047352</td>\n",
       "      <td>101.798200</td>\n",
       "      <td>1.000000</td>\n",
       "    </tr>\n",
       "    <tr>\n",
       "      <th>max</th>\n",
       "      <td>5.000000</td>\n",
       "      <td>6.00000</td>\n",
       "      <td>50.000000</td>\n",
       "      <td>60.000000</td>\n",
       "      <td>0.530000</td>\n",
       "      <td>3.048100</td>\n",
       "      <td>101.798641</td>\n",
       "      <td>21.000000</td>\n",
       "    </tr>\n",
       "  </tbody>\n",
       "</table>\n",
       "</div>"
      ],
      "text/plain": [
       "       stop_sequence   day_of_week  passenger_count  current_speed  \\\n",
       "count  100000.000000  100000.00000    100000.000000  100000.000000   \n",
       "mean        2.988910       2.99254        18.304740      31.734311   \n",
       "std         1.414449       1.99766         8.218921      14.058088   \n",
       "min         1.000000       0.00000         0.000000       5.000000   \n",
       "25%         2.000000       1.00000        12.000000      19.860000   \n",
       "50%         3.000000       3.00000        17.000000      34.080000   \n",
       "75%         4.000000       5.00000        24.000000      43.360000   \n",
       "max         5.000000       6.00000        50.000000      60.000000   \n",
       "\n",
       "       distance_to_next_stop    current_lat    current_lon    eta_minutes  \n",
       "count          100000.000000  100000.000000  100000.000000  100000.000000  \n",
       "mean                0.379676       3.045086     101.797202       1.062050  \n",
       "std                 0.111524       0.002153       0.001187       1.878413  \n",
       "min                 0.240000       3.041484     101.794788       0.000000  \n",
       "25%                 0.270000       3.043120     101.796117       0.000000  \n",
       "50%                 0.390000       3.045089     101.797769       0.000000  \n",
       "75%                 0.470000       3.047352     101.798200       1.000000  \n",
       "max                 0.530000       3.048100     101.798641      21.000000  "
      ]
     },
     "execution_count": 15,
     "metadata": {},
     "output_type": "execute_result"
    }
   ],
   "source": [
    "df.describe()"
   ]
  },
  {
   "cell_type": "code",
   "execution_count": 16,
   "metadata": {},
   "outputs": [
    {
     "data": {
      "text/plain": [
       "['timestamp',\n",
       " 'bus_id',\n",
       " 'route_id',\n",
       " 'stop_sequence',\n",
       " 'current_stop_name',\n",
       " 'next_stop_name',\n",
       " 'day_of_week',\n",
       " 'is_holiday',\n",
       " 'is_peak_hour',\n",
       " 'weather_condition',\n",
       " 'passenger_count',\n",
       " 'current_speed',\n",
       " 'traffic_condition',\n",
       " 'distance_to_next_stop',\n",
       " 'current_lat',\n",
       " 'current_lon',\n",
       " 'eta_minutes']"
      ]
     },
     "execution_count": 16,
     "metadata": {},
     "output_type": "execute_result"
    }
   ],
   "source": [
    "df.columns.tolist()"
   ]
  },
  {
   "cell_type": "code",
   "execution_count": 17,
   "metadata": {},
   "outputs": [
    {
     "data": {
      "text/plain": [
       "timestamp                0\n",
       "bus_id                   0\n",
       "route_id                 0\n",
       "stop_sequence            0\n",
       "current_stop_name        0\n",
       "next_stop_name           0\n",
       "day_of_week              0\n",
       "is_holiday               0\n",
       "is_peak_hour             0\n",
       "weather_condition        0\n",
       "passenger_count          0\n",
       "current_speed            0\n",
       "traffic_condition        0\n",
       "distance_to_next_stop    0\n",
       "current_lat              0\n",
       "current_lon              0\n",
       "eta_minutes              0\n",
       "dtype: int64"
      ]
     },
     "execution_count": 17,
     "metadata": {},
     "output_type": "execute_result"
    }
   ],
   "source": [
    "df.isnull().sum()"
   ]
  },
  {
   "cell_type": "code",
   "execution_count": 18,
   "metadata": {},
   "outputs": [
    {
     "data": {
      "text/plain": [
       "timestamp                100000\n",
       "bus_id                        5\n",
       "route_id                      1\n",
       "stop_sequence                 5\n",
       "current_stop_name             5\n",
       "next_stop_name                5\n",
       "day_of_week                   7\n",
       "is_holiday                    2\n",
       "is_peak_hour                  2\n",
       "weather_condition             5\n",
       "passenger_count              51\n",
       "current_speed              5444\n",
       "traffic_condition             4\n",
       "distance_to_next_stop         5\n",
       "current_lat                6616\n",
       "current_lon                3854\n",
       "eta_minutes                  20\n",
       "dtype: int64"
      ]
     },
     "execution_count": 18,
     "metadata": {},
     "output_type": "execute_result"
    }
   ],
   "source": [
    "df.nunique()"
   ]
  }
 ],
 "metadata": {
  "kernelspec": {
   "display_name": "Python 3",
   "language": "python",
   "name": "python3"
  },
  "language_info": {
   "codemirror_mode": {
    "name": "ipython",
    "version": 3
   },
   "file_extension": ".py",
   "mimetype": "text/x-python",
   "name": "python",
   "nbconvert_exporter": "python",
   "pygments_lexer": "ipython3",
   "version": "3.10.0"
  }
 },
 "nbformat": 4,
 "nbformat_minor": 2
}
